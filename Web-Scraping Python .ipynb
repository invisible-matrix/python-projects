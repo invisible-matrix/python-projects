{
 "cells": [
  {
   "cell_type": "markdown",
   "id": "approved-obligation",
   "metadata": {},
   "source": [
    "# Web-Scraping in Python :"
   ]
  },
  {
   "cell_type": "code",
   "execution_count": 5,
   "id": "intense-listening",
   "metadata": {},
   "outputs": [],
   "source": [
    "import sys\n",
    "import time\n",
    "from bs4 import BeautifulSoup\n",
    "import requests\n"
   ]
  },
  {
   "cell_type": "code",
   "execution_count": 6,
   "id": "peripheral-richardson",
   "metadata": {},
   "outputs": [],
   "source": [
    "try:\n",
    "        \n",
    "    page=requests.get('https://www.indiatoday.in/news.html')            # this might throw an exception if something goes wrong.\n",
    "    \n",
    "except Exception as e:                                   \n",
    "    error_type, error_obj, error_info = sys.exc_info()     \n",
    "    print ('ERROR FOR LINK:',url)                          \n",
    "    print (error_type, 'Line:', error_info.tb_lineno)      \n",
    "                                                 \n",
    "time.sleep(2)   \n",
    "soup=BeautifulSoup(page.text,'html.parser')\n",
    "links=soup.find_all('div',attrs={'class':'col-md-12 col-sm-12'})"
   ]
  },
  {
   "cell_type": "code",
   "execution_count": 7,
   "id": "unnecessary-security",
   "metadata": {},
   "outputs": [
    {
     "data": {
      "text/plain": [
       "[<div class=\"col-md-12 col-sm-12\"><h2 class=\"news-head\"><span>Top Headlines</span></h2><h3 class=\"news-page-feature\"> <a href=\"/india/story/prime-minister-pm-narendra-modi-address-nation-corona-free-covid-vaccines-states-1811967-2021-06-07\" title=\"Centre to take back control of vaccines from states, to supply free jabs for all adults: PM\">Centre to take back control of vaccines from states, to supply free jabs for all adults: PM</a></h3><h3 class=\"news-page-feature\"> <a href=\"/india/story/pm-garib-kalyan-anna-yojana-free-ration-extended-till-diwali-1811979-2021-06-07\" title=\"PMGKAY extended, beneficiaries to get free ration till Diwali\">PMGKAY extended, beneficiaries to get free ration till Diwali</a></h3><h3 class=\"news-page-feature\"> <a href=\"/coronavirus-outbreak/story/vaccine-is-like-a-shield-in-our-fight-against-covid-19-pm-modi-1811970-2021-06-07\" title=\"Vaccine like a shield against Covid: PM Modi during address to nation\">Vaccine like a shield against Covid: PM Modi during address to nation</a></h3></div>]"
      ]
     },
     "execution_count": 7,
     "metadata": {},
     "output_type": "execute_result"
    }
   ],
   "source": [
    "links"
   ]
  },
  {
   "cell_type": "code",
   "execution_count": 8,
   "id": "economic-fairy",
   "metadata": {},
   "outputs": [
    {
     "name": "stdout",
     "output_type": "stream",
     "text": [
      "Top Headlines Centre to take back control of vaccines from states, to supply free jabs for all adults: PM PMGKAY extended, beneficiaries to get free ration till Diwali Vaccine like a shield against Covid: PM Modi during address to nation\n",
      "\n",
      "\n"
     ]
    }
   ],
   "source": [
    "for i in links:\n",
    "    print(i.text)\n",
    "    print(\"\\n\")"
   ]
  },
  {
   "cell_type": "code",
   "execution_count": null,
   "id": "enabling-crystal",
   "metadata": {},
   "outputs": [],
   "source": []
  }
 ],
 "metadata": {
  "kernelspec": {
   "display_name": "Python 3",
   "language": "python",
   "name": "python3"
  },
  "language_info": {
   "codemirror_mode": {
    "name": "ipython",
    "version": 3
   },
   "file_extension": ".py",
   "mimetype": "text/x-python",
   "name": "python",
   "nbconvert_exporter": "python",
   "pygments_lexer": "ipython3",
   "version": "3.8.8"
  }
 },
 "nbformat": 4,
 "nbformat_minor": 5
}
